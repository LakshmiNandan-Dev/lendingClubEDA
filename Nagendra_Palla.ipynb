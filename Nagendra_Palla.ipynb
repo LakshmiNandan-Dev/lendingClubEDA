{
 "cells": [
  {
   "cell_type": "markdown",
   "id": "c3a3709d",
   "metadata": {},
   "source": [
    "## Lending Club Case Study"
   ]
  },
  {
   "cell_type": "code",
   "execution_count": 157,
   "id": "dcf510e6",
   "metadata": {},
   "outputs": [],
   "source": [
    "#Import all required libraries\n",
    "import pandas as pd\n",
    "import numpy as np\n",
    "import matplotlib.pyplot as plt\n",
    "import seaborn as sns"
   ]
  },
  {
   "cell_type": "code",
   "execution_count": 158,
   "id": "fb7c8e4d",
   "metadata": {
    "scrolled": true
   },
   "outputs": [
    {
     "name": "stderr",
     "output_type": "stream",
     "text": [
      "C:\\Users\\palla\\AppData\\Local\\Temp\\ipykernel_61952\\324706129.py:2: DtypeWarning: Columns (47) have mixed types. Specify dtype option on import or set low_memory=False.\n",
      "  loan_cust=pd.read_csv('C:/Users/palla/OneDrive/Desktop/Project/Upgrad/CaseStudy/loan/loan.csv')\n"
     ]
    },
    {
     "data": {
      "text/html": [
       "<div>\n",
       "<style scoped>\n",
       "    .dataframe tbody tr th:only-of-type {\n",
       "        vertical-align: middle;\n",
       "    }\n",
       "\n",
       "    .dataframe tbody tr th {\n",
       "        vertical-align: top;\n",
       "    }\n",
       "\n",
       "    .dataframe thead th {\n",
       "        text-align: right;\n",
       "    }\n",
       "</style>\n",
       "<table border=\"1\" class=\"dataframe\">\n",
       "  <thead>\n",
       "    <tr style=\"text-align: right;\">\n",
       "      <th></th>\n",
       "      <th>id</th>\n",
       "      <th>member_id</th>\n",
       "      <th>loan_amnt</th>\n",
       "      <th>funded_amnt</th>\n",
       "      <th>funded_amnt_inv</th>\n",
       "      <th>term</th>\n",
       "      <th>int_rate</th>\n",
       "      <th>installment</th>\n",
       "      <th>grade</th>\n",
       "      <th>sub_grade</th>\n",
       "      <th>...</th>\n",
       "      <th>num_tl_90g_dpd_24m</th>\n",
       "      <th>num_tl_op_past_12m</th>\n",
       "      <th>pct_tl_nvr_dlq</th>\n",
       "      <th>percent_bc_gt_75</th>\n",
       "      <th>pub_rec_bankruptcies</th>\n",
       "      <th>tax_liens</th>\n",
       "      <th>tot_hi_cred_lim</th>\n",
       "      <th>total_bal_ex_mort</th>\n",
       "      <th>total_bc_limit</th>\n",
       "      <th>total_il_high_credit_limit</th>\n",
       "    </tr>\n",
       "  </thead>\n",
       "  <tbody>\n",
       "    <tr>\n",
       "      <th>0</th>\n",
       "      <td>1077501</td>\n",
       "      <td>1296599</td>\n",
       "      <td>5000</td>\n",
       "      <td>5000</td>\n",
       "      <td>4975.0</td>\n",
       "      <td>36 months</td>\n",
       "      <td>10.65%</td>\n",
       "      <td>162.87</td>\n",
       "      <td>B</td>\n",
       "      <td>B2</td>\n",
       "      <td>...</td>\n",
       "      <td>NaN</td>\n",
       "      <td>NaN</td>\n",
       "      <td>NaN</td>\n",
       "      <td>NaN</td>\n",
       "      <td>0.0</td>\n",
       "      <td>0.0</td>\n",
       "      <td>NaN</td>\n",
       "      <td>NaN</td>\n",
       "      <td>NaN</td>\n",
       "      <td>NaN</td>\n",
       "    </tr>\n",
       "    <tr>\n",
       "      <th>1</th>\n",
       "      <td>1077430</td>\n",
       "      <td>1314167</td>\n",
       "      <td>2500</td>\n",
       "      <td>2500</td>\n",
       "      <td>2500.0</td>\n",
       "      <td>60 months</td>\n",
       "      <td>15.27%</td>\n",
       "      <td>59.83</td>\n",
       "      <td>C</td>\n",
       "      <td>C4</td>\n",
       "      <td>...</td>\n",
       "      <td>NaN</td>\n",
       "      <td>NaN</td>\n",
       "      <td>NaN</td>\n",
       "      <td>NaN</td>\n",
       "      <td>0.0</td>\n",
       "      <td>0.0</td>\n",
       "      <td>NaN</td>\n",
       "      <td>NaN</td>\n",
       "      <td>NaN</td>\n",
       "      <td>NaN</td>\n",
       "    </tr>\n",
       "    <tr>\n",
       "      <th>2</th>\n",
       "      <td>1077175</td>\n",
       "      <td>1313524</td>\n",
       "      <td>2400</td>\n",
       "      <td>2400</td>\n",
       "      <td>2400.0</td>\n",
       "      <td>36 months</td>\n",
       "      <td>15.96%</td>\n",
       "      <td>84.33</td>\n",
       "      <td>C</td>\n",
       "      <td>C5</td>\n",
       "      <td>...</td>\n",
       "      <td>NaN</td>\n",
       "      <td>NaN</td>\n",
       "      <td>NaN</td>\n",
       "      <td>NaN</td>\n",
       "      <td>0.0</td>\n",
       "      <td>0.0</td>\n",
       "      <td>NaN</td>\n",
       "      <td>NaN</td>\n",
       "      <td>NaN</td>\n",
       "      <td>NaN</td>\n",
       "    </tr>\n",
       "    <tr>\n",
       "      <th>3</th>\n",
       "      <td>1076863</td>\n",
       "      <td>1277178</td>\n",
       "      <td>10000</td>\n",
       "      <td>10000</td>\n",
       "      <td>10000.0</td>\n",
       "      <td>36 months</td>\n",
       "      <td>13.49%</td>\n",
       "      <td>339.31</td>\n",
       "      <td>C</td>\n",
       "      <td>C1</td>\n",
       "      <td>...</td>\n",
       "      <td>NaN</td>\n",
       "      <td>NaN</td>\n",
       "      <td>NaN</td>\n",
       "      <td>NaN</td>\n",
       "      <td>0.0</td>\n",
       "      <td>0.0</td>\n",
       "      <td>NaN</td>\n",
       "      <td>NaN</td>\n",
       "      <td>NaN</td>\n",
       "      <td>NaN</td>\n",
       "    </tr>\n",
       "    <tr>\n",
       "      <th>4</th>\n",
       "      <td>1075358</td>\n",
       "      <td>1311748</td>\n",
       "      <td>3000</td>\n",
       "      <td>3000</td>\n",
       "      <td>3000.0</td>\n",
       "      <td>60 months</td>\n",
       "      <td>12.69%</td>\n",
       "      <td>67.79</td>\n",
       "      <td>B</td>\n",
       "      <td>B5</td>\n",
       "      <td>...</td>\n",
       "      <td>NaN</td>\n",
       "      <td>NaN</td>\n",
       "      <td>NaN</td>\n",
       "      <td>NaN</td>\n",
       "      <td>0.0</td>\n",
       "      <td>0.0</td>\n",
       "      <td>NaN</td>\n",
       "      <td>NaN</td>\n",
       "      <td>NaN</td>\n",
       "      <td>NaN</td>\n",
       "    </tr>\n",
       "  </tbody>\n",
       "</table>\n",
       "<p>5 rows × 111 columns</p>\n",
       "</div>"
      ],
      "text/plain": [
       "        id  member_id  loan_amnt  funded_amnt  funded_amnt_inv        term  \\\n",
       "0  1077501    1296599       5000         5000           4975.0   36 months   \n",
       "1  1077430    1314167       2500         2500           2500.0   60 months   \n",
       "2  1077175    1313524       2400         2400           2400.0   36 months   \n",
       "3  1076863    1277178      10000        10000          10000.0   36 months   \n",
       "4  1075358    1311748       3000         3000           3000.0   60 months   \n",
       "\n",
       "  int_rate  installment grade sub_grade  ... num_tl_90g_dpd_24m  \\\n",
       "0   10.65%       162.87     B        B2  ...                NaN   \n",
       "1   15.27%        59.83     C        C4  ...                NaN   \n",
       "2   15.96%        84.33     C        C5  ...                NaN   \n",
       "3   13.49%       339.31     C        C1  ...                NaN   \n",
       "4   12.69%        67.79     B        B5  ...                NaN   \n",
       "\n",
       "  num_tl_op_past_12m pct_tl_nvr_dlq  percent_bc_gt_75 pub_rec_bankruptcies  \\\n",
       "0                NaN            NaN               NaN                  0.0   \n",
       "1                NaN            NaN               NaN                  0.0   \n",
       "2                NaN            NaN               NaN                  0.0   \n",
       "3                NaN            NaN               NaN                  0.0   \n",
       "4                NaN            NaN               NaN                  0.0   \n",
       "\n",
       "  tax_liens tot_hi_cred_lim total_bal_ex_mort total_bc_limit  \\\n",
       "0       0.0             NaN               NaN            NaN   \n",
       "1       0.0             NaN               NaN            NaN   \n",
       "2       0.0             NaN               NaN            NaN   \n",
       "3       0.0             NaN               NaN            NaN   \n",
       "4       0.0             NaN               NaN            NaN   \n",
       "\n",
       "  total_il_high_credit_limit  \n",
       "0                        NaN  \n",
       "1                        NaN  \n",
       "2                        NaN  \n",
       "3                        NaN  \n",
       "4                        NaN  \n",
       "\n",
       "[5 rows x 111 columns]"
      ]
     },
     "execution_count": 158,
     "metadata": {},
     "output_type": "execute_result"
    }
   ],
   "source": [
    "## Load the csv file into a dataframe\n",
    "loan_cust=pd.read_csv('loan.csv')\n",
    "loan_cust.head(5)\n",
    "type(loan_cust)\n"
   ]
  },
  {
   "cell_type": "code",
   "execution_count": 159,
   "id": "13d35ad8",
   "metadata": {},
   "outputs": [
    {
     "name": "stdout",
     "output_type": "stream",
     "text": [
      "<class 'pandas.core.frame.DataFrame'>\n",
      "RangeIndex: 39717 entries, 0 to 39716\n",
      "Columns: 111 entries, id to total_il_high_credit_limit\n",
      "dtypes: float64(74), int64(13), object(24)\n",
      "memory usage: 33.6+ MB\n"
     ]
    }
   ],
   "source": [
    "## check the information  of the dataframe\n",
    "loan_cust.info()"
   ]
  },
  {
   "cell_type": "code",
   "execution_count": 160,
   "id": "1c9d6a96",
   "metadata": {},
   "outputs": [
    {
     "data": {
      "text/plain": [
       "(39717, 111)"
      ]
     },
     "execution_count": 160,
     "metadata": {},
     "output_type": "execute_result"
    }
   ],
   "source": [
    "## size of the data set rows and column we have 111 column\n",
    "loan_cust.shape"
   ]
  },
  {
   "cell_type": "code",
   "execution_count": 161,
   "id": "39c4cf7a",
   "metadata": {},
   "outputs": [
    {
     "data": {
      "text/plain": [
       "Index(['id', 'member_id', 'loan_amnt', 'funded_amnt', 'funded_amnt_inv',\n",
       "       'term', 'int_rate', 'installment', 'grade', 'sub_grade',\n",
       "       ...\n",
       "       'num_tl_90g_dpd_24m', 'num_tl_op_past_12m', 'pct_tl_nvr_dlq',\n",
       "       'percent_bc_gt_75', 'pub_rec_bankruptcies', 'tax_liens',\n",
       "       'tot_hi_cred_lim', 'total_bal_ex_mort', 'total_bc_limit',\n",
       "       'total_il_high_credit_limit'],\n",
       "      dtype='object', length=111)"
      ]
     },
     "execution_count": 161,
     "metadata": {},
     "output_type": "execute_result"
    }
   ],
   "source": [
    "## CHeck all available columns\n",
    "loan_cust.columns"
   ]
  },
  {
   "cell_type": "markdown",
   "id": "3d0e3162",
   "metadata": {},
   "source": [
    "## Data-cleaning\n",
    "1. identify columns with Null values\n",
    "2. drop column which has high null values "
   ]
  },
  {
   "cell_type": "code",
   "execution_count": 162,
   "id": "92bb9427",
   "metadata": {},
   "outputs": [
    {
     "data": {
      "text/plain": [
       "id                                0\n",
       "member_id                         0\n",
       "loan_amnt                         0\n",
       "funded_amnt                       0\n",
       "funded_amnt_inv                   0\n",
       "                              ...  \n",
       "tax_liens                        39\n",
       "tot_hi_cred_lim               39717\n",
       "total_bal_ex_mort             39717\n",
       "total_bc_limit                39717\n",
       "total_il_high_credit_limit    39717\n",
       "Length: 111, dtype: int64"
      ]
     },
     "execution_count": 162,
     "metadata": {},
     "output_type": "execute_result"
    }
   ],
   "source": [
    "# check the count of null values\n",
    "loan_cust.isnull().sum()\n"
   ]
  },
  {
   "cell_type": "code",
   "execution_count": 163,
   "id": "9f903128",
   "metadata": {},
   "outputs": [
    {
     "data": {
      "text/plain": [
       "id                              0.000000\n",
       "member_id                       0.000000\n",
       "loan_amnt                       0.000000\n",
       "funded_amnt                     0.000000\n",
       "funded_amnt_inv                 0.000000\n",
       "                                 ...    \n",
       "tax_liens                       0.098195\n",
       "tot_hi_cred_lim               100.000000\n",
       "total_bal_ex_mort             100.000000\n",
       "total_bc_limit                100.000000\n",
       "total_il_high_credit_limit    100.000000\n",
       "Length: 111, dtype: float64"
      ]
     },
     "execution_count": 163,
     "metadata": {},
     "output_type": "execute_result"
    }
   ],
   "source": [
    "(100*loan_cust.isnull().sum())/len(loan_cust.index)"
   ]
  },
  {
   "cell_type": "markdown",
   "id": "cedb13b0",
   "metadata": {},
   "source": [
    "#### drop columns which has all null values -  100%\n"
   ]
  },
  {
   "cell_type": "code",
   "execution_count": 254,
   "id": "5d1f9d8d",
   "metadata": {},
   "outputs": [
    {
     "data": {
      "text/plain": [
       "pandas.core.frame.DataFrame"
      ]
     },
     "execution_count": 254,
     "metadata": {},
     "output_type": "execute_result"
    }
   ],
   "source": [
    "loan_cust.dropna(axis=1,how='all',inplace=True)\n",
    "\n",
    "# check the columns \n",
    "loan_cust.shape\n"
   ]
  },
  {
   "cell_type": "code",
   "execution_count": 165,
   "id": "371bb98d",
   "metadata": {},
   "outputs": [
    {
     "data": {
      "text/plain": [
       "id                             0.000000\n",
       "member_id                      0.000000\n",
       "loan_amnt                      0.000000\n",
       "funded_amnt                    0.000000\n",
       "funded_amnt_inv                0.000000\n",
       "term                           0.000000\n",
       "int_rate                       0.000000\n",
       "installment                    0.000000\n",
       "grade                          0.000000\n",
       "sub_grade                      0.000000\n",
       "emp_title                      6.191303\n",
       "emp_length                     2.706650\n",
       "home_ownership                 0.000000\n",
       "annual_inc                     0.000000\n",
       "verification_status            0.000000\n",
       "issue_d                        0.000000\n",
       "loan_status                    0.000000\n",
       "pymnt_plan                     0.000000\n",
       "url                            0.000000\n",
       "desc                          32.580507\n",
       "purpose                        0.000000\n",
       "title                          0.027696\n",
       "zip_code                       0.000000\n",
       "addr_state                     0.000000\n",
       "dti                            0.000000\n",
       "delinq_2yrs                    0.000000\n",
       "earliest_cr_line               0.000000\n",
       "inq_last_6mths                 0.000000\n",
       "mths_since_last_delinq        64.662487\n",
       "mths_since_last_record        92.985372\n",
       "open_acc                       0.000000\n",
       "pub_rec                        0.000000\n",
       "revol_bal                      0.000000\n",
       "revol_util                     0.125891\n",
       "total_acc                      0.000000\n",
       "initial_list_status            0.000000\n",
       "out_prncp                      0.000000\n",
       "out_prncp_inv                  0.000000\n",
       "total_pymnt                    0.000000\n",
       "total_pymnt_inv                0.000000\n",
       "total_rec_prncp                0.000000\n",
       "total_rec_int                  0.000000\n",
       "total_rec_late_fee             0.000000\n",
       "recoveries                     0.000000\n",
       "collection_recovery_fee        0.000000\n",
       "last_pymnt_d                   0.178765\n",
       "last_pymnt_amnt                0.000000\n",
       "next_pymnt_d                  97.129693\n",
       "last_credit_pull_d             0.005036\n",
       "collections_12_mths_ex_med     0.140998\n",
       "policy_code                    0.000000\n",
       "application_type               0.000000\n",
       "acc_now_delinq                 0.000000\n",
       "chargeoff_within_12_mths       0.140998\n",
       "delinq_amnt                    0.000000\n",
       "pub_rec_bankruptcies           1.754916\n",
       "tax_liens                      0.098195\n",
       "dtype: float64"
      ]
     },
     "execution_count": 165,
     "metadata": {},
     "output_type": "execute_result"
    }
   ],
   "source": [
    "# check the % null values in remaining columns\n",
    "((loan_cust.isnull().sum())/len(loan_cust.index)*100)"
   ]
  },
  {
   "cell_type": "code",
   "execution_count": 166,
   "id": "a346e5e7",
   "metadata": {},
   "outputs": [],
   "source": [
    "# drop the columns which has more than 90% \n",
    "loan_cust.drop(labels=['mths_since_last_record','next_pymnt_d'],axis=1,inplace=True)"
   ]
  },
  {
   "cell_type": "code",
   "execution_count": 167,
   "id": "097d3d87",
   "metadata": {},
   "outputs": [
    {
     "data": {
      "text/plain": [
       "id                             0.000000\n",
       "member_id                      0.000000\n",
       "loan_amnt                      0.000000\n",
       "funded_amnt                    0.000000\n",
       "funded_amnt_inv                0.000000\n",
       "term                           0.000000\n",
       "int_rate                       0.000000\n",
       "installment                    0.000000\n",
       "grade                          0.000000\n",
       "sub_grade                      0.000000\n",
       "emp_title                      6.191303\n",
       "emp_length                     2.706650\n",
       "home_ownership                 0.000000\n",
       "annual_inc                     0.000000\n",
       "verification_status            0.000000\n",
       "issue_d                        0.000000\n",
       "loan_status                    0.000000\n",
       "pymnt_plan                     0.000000\n",
       "url                            0.000000\n",
       "desc                          32.580507\n",
       "purpose                        0.000000\n",
       "title                          0.027696\n",
       "zip_code                       0.000000\n",
       "addr_state                     0.000000\n",
       "dti                            0.000000\n",
       "delinq_2yrs                    0.000000\n",
       "earliest_cr_line               0.000000\n",
       "inq_last_6mths                 0.000000\n",
       "mths_since_last_delinq        64.662487\n",
       "open_acc                       0.000000\n",
       "pub_rec                        0.000000\n",
       "revol_bal                      0.000000\n",
       "revol_util                     0.125891\n",
       "total_acc                      0.000000\n",
       "initial_list_status            0.000000\n",
       "out_prncp                      0.000000\n",
       "out_prncp_inv                  0.000000\n",
       "total_pymnt                    0.000000\n",
       "total_pymnt_inv                0.000000\n",
       "total_rec_prncp                0.000000\n",
       "total_rec_int                  0.000000\n",
       "total_rec_late_fee             0.000000\n",
       "recoveries                     0.000000\n",
       "collection_recovery_fee        0.000000\n",
       "last_pymnt_d                   0.178765\n",
       "last_pymnt_amnt                0.000000\n",
       "last_credit_pull_d             0.005036\n",
       "collections_12_mths_ex_med     0.140998\n",
       "policy_code                    0.000000\n",
       "application_type               0.000000\n",
       "acc_now_delinq                 0.000000\n",
       "chargeoff_within_12_mths       0.140998\n",
       "delinq_amnt                    0.000000\n",
       "pub_rec_bankruptcies           1.754916\n",
       "tax_liens                      0.098195\n",
       "dtype: float64"
      ]
     },
     "execution_count": 167,
     "metadata": {},
     "output_type": "execute_result"
    }
   ],
   "source": [
    "(loan_cust.isnull().sum())/len(loan_cust.index)*100\n"
   ]
  },
  {
   "cell_type": "code",
   "execution_count": 168,
   "id": "c865ae19",
   "metadata": {},
   "outputs": [],
   "source": [
    "#Column with more than 60% cannot remove those rows so we better aproach is to drop the column\n",
    "loan_cust.drop(labels=['mths_since_last_delinq'],axis=1,inplace=True)"
   ]
  },
  {
   "cell_type": "code",
   "execution_count": 169,
   "id": "0b3a9d2f",
   "metadata": {},
   "outputs": [
    {
     "name": "stdout",
     "output_type": "stream",
     "text": [
      "<class 'pandas.core.frame.DataFrame'>\n",
      "RangeIndex: 39717 entries, 0 to 39716\n",
      "Data columns (total 54 columns):\n",
      " #   Column                      Non-Null Count  Dtype  \n",
      "---  ------                      --------------  -----  \n",
      " 0   id                          39717 non-null  int64  \n",
      " 1   member_id                   39717 non-null  int64  \n",
      " 2   loan_amnt                   39717 non-null  int64  \n",
      " 3   funded_amnt                 39717 non-null  int64  \n",
      " 4   funded_amnt_inv             39717 non-null  float64\n",
      " 5   term                        39717 non-null  object \n",
      " 6   int_rate                    39717 non-null  object \n",
      " 7   installment                 39717 non-null  float64\n",
      " 8   grade                       39717 non-null  object \n",
      " 9   sub_grade                   39717 non-null  object \n",
      " 10  emp_title                   37258 non-null  object \n",
      " 11  emp_length                  38642 non-null  object \n",
      " 12  home_ownership              39717 non-null  object \n",
      " 13  annual_inc                  39717 non-null  float64\n",
      " 14  verification_status         39717 non-null  object \n",
      " 15  issue_d                     39717 non-null  object \n",
      " 16  loan_status                 39717 non-null  object \n",
      " 17  pymnt_plan                  39717 non-null  object \n",
      " 18  url                         39717 non-null  object \n",
      " 19  desc                        26777 non-null  object \n",
      " 20  purpose                     39717 non-null  object \n",
      " 21  title                       39706 non-null  object \n",
      " 22  zip_code                    39717 non-null  object \n",
      " 23  addr_state                  39717 non-null  object \n",
      " 24  dti                         39717 non-null  float64\n",
      " 25  delinq_2yrs                 39717 non-null  int64  \n",
      " 26  earliest_cr_line            39717 non-null  object \n",
      " 27  inq_last_6mths              39717 non-null  int64  \n",
      " 28  open_acc                    39717 non-null  int64  \n",
      " 29  pub_rec                     39717 non-null  int64  \n",
      " 30  revol_bal                   39717 non-null  int64  \n",
      " 31  revol_util                  39667 non-null  object \n",
      " 32  total_acc                   39717 non-null  int64  \n",
      " 33  initial_list_status         39717 non-null  object \n",
      " 34  out_prncp                   39717 non-null  float64\n",
      " 35  out_prncp_inv               39717 non-null  float64\n",
      " 36  total_pymnt                 39717 non-null  float64\n",
      " 37  total_pymnt_inv             39717 non-null  float64\n",
      " 38  total_rec_prncp             39717 non-null  float64\n",
      " 39  total_rec_int               39717 non-null  float64\n",
      " 40  total_rec_late_fee          39717 non-null  float64\n",
      " 41  recoveries                  39717 non-null  float64\n",
      " 42  collection_recovery_fee     39717 non-null  float64\n",
      " 43  last_pymnt_d                39646 non-null  object \n",
      " 44  last_pymnt_amnt             39717 non-null  float64\n",
      " 45  last_credit_pull_d          39715 non-null  object \n",
      " 46  collections_12_mths_ex_med  39661 non-null  float64\n",
      " 47  policy_code                 39717 non-null  int64  \n",
      " 48  application_type            39717 non-null  object \n",
      " 49  acc_now_delinq              39717 non-null  int64  \n",
      " 50  chargeoff_within_12_mths    39661 non-null  float64\n",
      " 51  delinq_amnt                 39717 non-null  int64  \n",
      " 52  pub_rec_bankruptcies        39020 non-null  float64\n",
      " 53  tax_liens                   39678 non-null  float64\n",
      "dtypes: float64(18), int64(13), object(23)\n",
      "memory usage: 16.4+ MB\n"
     ]
    }
   ],
   "source": [
    "loan_cust.info()"
   ]
  },
  {
   "cell_type": "code",
   "execution_count": 170,
   "id": "495b82cc",
   "metadata": {},
   "outputs": [
    {
     "data": {
      "text/html": [
       "<div>\n",
       "<style scoped>\n",
       "    .dataframe tbody tr th:only-of-type {\n",
       "        vertical-align: middle;\n",
       "    }\n",
       "\n",
       "    .dataframe tbody tr th {\n",
       "        vertical-align: top;\n",
       "    }\n",
       "\n",
       "    .dataframe thead th {\n",
       "        text-align: right;\n",
       "    }\n",
       "</style>\n",
       "<table border=\"1\" class=\"dataframe\">\n",
       "  <thead>\n",
       "    <tr style=\"text-align: right;\">\n",
       "      <th></th>\n",
       "      <th>id</th>\n",
       "      <th>member_id</th>\n",
       "      <th>loan_amnt</th>\n",
       "      <th>funded_amnt</th>\n",
       "      <th>funded_amnt_inv</th>\n",
       "      <th>term</th>\n",
       "      <th>int_rate</th>\n",
       "      <th>installment</th>\n",
       "      <th>grade</th>\n",
       "      <th>sub_grade</th>\n",
       "      <th>...</th>\n",
       "      <th>last_pymnt_amnt</th>\n",
       "      <th>last_credit_pull_d</th>\n",
       "      <th>collections_12_mths_ex_med</th>\n",
       "      <th>policy_code</th>\n",
       "      <th>application_type</th>\n",
       "      <th>acc_now_delinq</th>\n",
       "      <th>chargeoff_within_12_mths</th>\n",
       "      <th>delinq_amnt</th>\n",
       "      <th>pub_rec_bankruptcies</th>\n",
       "      <th>tax_liens</th>\n",
       "    </tr>\n",
       "  </thead>\n",
       "  <tbody>\n",
       "    <tr>\n",
       "      <th>39707</th>\n",
       "      <td>92666</td>\n",
       "      <td>92661</td>\n",
       "      <td>5000</td>\n",
       "      <td>5000</td>\n",
       "      <td>525.0</td>\n",
       "      <td>36 months</td>\n",
       "      <td>9.33%</td>\n",
       "      <td>159.77</td>\n",
       "      <td>B</td>\n",
       "      <td>B3</td>\n",
       "      <td>...</td>\n",
       "      <td>161.55</td>\n",
       "      <td>Jun-07</td>\n",
       "      <td>NaN</td>\n",
       "      <td>1</td>\n",
       "      <td>INDIVIDUAL</td>\n",
       "      <td>0</td>\n",
       "      <td>NaN</td>\n",
       "      <td>0</td>\n",
       "      <td>NaN</td>\n",
       "      <td>NaN</td>\n",
       "    </tr>\n",
       "    <tr>\n",
       "      <th>39708</th>\n",
       "      <td>92552</td>\n",
       "      <td>92542</td>\n",
       "      <td>5000</td>\n",
       "      <td>5000</td>\n",
       "      <td>375.0</td>\n",
       "      <td>36 months</td>\n",
       "      <td>9.96%</td>\n",
       "      <td>161.25</td>\n",
       "      <td>B</td>\n",
       "      <td>B5</td>\n",
       "      <td>...</td>\n",
       "      <td>162.07</td>\n",
       "      <td>Jun-10</td>\n",
       "      <td>NaN</td>\n",
       "      <td>1</td>\n",
       "      <td>INDIVIDUAL</td>\n",
       "      <td>0</td>\n",
       "      <td>NaN</td>\n",
       "      <td>0</td>\n",
       "      <td>NaN</td>\n",
       "      <td>NaN</td>\n",
       "    </tr>\n",
       "    <tr>\n",
       "      <th>39709</th>\n",
       "      <td>92533</td>\n",
       "      <td>92529</td>\n",
       "      <td>5000</td>\n",
       "      <td>5000</td>\n",
       "      <td>675.0</td>\n",
       "      <td>36 months</td>\n",
       "      <td>11.22%</td>\n",
       "      <td>164.23</td>\n",
       "      <td>C</td>\n",
       "      <td>C4</td>\n",
       "      <td>...</td>\n",
       "      <td>165.17</td>\n",
       "      <td>Jun-07</td>\n",
       "      <td>NaN</td>\n",
       "      <td>1</td>\n",
       "      <td>INDIVIDUAL</td>\n",
       "      <td>0</td>\n",
       "      <td>NaN</td>\n",
       "      <td>0</td>\n",
       "      <td>NaN</td>\n",
       "      <td>NaN</td>\n",
       "    </tr>\n",
       "    <tr>\n",
       "      <th>39710</th>\n",
       "      <td>92507</td>\n",
       "      <td>92502</td>\n",
       "      <td>5000</td>\n",
       "      <td>5000</td>\n",
       "      <td>250.0</td>\n",
       "      <td>36 months</td>\n",
       "      <td>7.43%</td>\n",
       "      <td>155.38</td>\n",
       "      <td>A</td>\n",
       "      <td>A2</td>\n",
       "      <td>...</td>\n",
       "      <td>156.29</td>\n",
       "      <td>Jun-07</td>\n",
       "      <td>NaN</td>\n",
       "      <td>1</td>\n",
       "      <td>INDIVIDUAL</td>\n",
       "      <td>0</td>\n",
       "      <td>NaN</td>\n",
       "      <td>0</td>\n",
       "      <td>NaN</td>\n",
       "      <td>NaN</td>\n",
       "    </tr>\n",
       "    <tr>\n",
       "      <th>39711</th>\n",
       "      <td>92402</td>\n",
       "      <td>92390</td>\n",
       "      <td>5000</td>\n",
       "      <td>5000</td>\n",
       "      <td>700.0</td>\n",
       "      <td>36 months</td>\n",
       "      <td>8.70%</td>\n",
       "      <td>158.30</td>\n",
       "      <td>B</td>\n",
       "      <td>B1</td>\n",
       "      <td>...</td>\n",
       "      <td>159.83</td>\n",
       "      <td>Nov-14</td>\n",
       "      <td>NaN</td>\n",
       "      <td>1</td>\n",
       "      <td>INDIVIDUAL</td>\n",
       "      <td>0</td>\n",
       "      <td>NaN</td>\n",
       "      <td>0</td>\n",
       "      <td>NaN</td>\n",
       "      <td>NaN</td>\n",
       "    </tr>\n",
       "    <tr>\n",
       "      <th>39712</th>\n",
       "      <td>92187</td>\n",
       "      <td>92174</td>\n",
       "      <td>2500</td>\n",
       "      <td>2500</td>\n",
       "      <td>1075.0</td>\n",
       "      <td>36 months</td>\n",
       "      <td>8.07%</td>\n",
       "      <td>78.42</td>\n",
       "      <td>A</td>\n",
       "      <td>A4</td>\n",
       "      <td>...</td>\n",
       "      <td>80.90</td>\n",
       "      <td>Jun-10</td>\n",
       "      <td>NaN</td>\n",
       "      <td>1</td>\n",
       "      <td>INDIVIDUAL</td>\n",
       "      <td>0</td>\n",
       "      <td>NaN</td>\n",
       "      <td>0</td>\n",
       "      <td>NaN</td>\n",
       "      <td>NaN</td>\n",
       "    </tr>\n",
       "    <tr>\n",
       "      <th>39713</th>\n",
       "      <td>90665</td>\n",
       "      <td>90607</td>\n",
       "      <td>8500</td>\n",
       "      <td>8500</td>\n",
       "      <td>875.0</td>\n",
       "      <td>36 months</td>\n",
       "      <td>10.28%</td>\n",
       "      <td>275.38</td>\n",
       "      <td>C</td>\n",
       "      <td>C1</td>\n",
       "      <td>...</td>\n",
       "      <td>281.94</td>\n",
       "      <td>Jul-10</td>\n",
       "      <td>NaN</td>\n",
       "      <td>1</td>\n",
       "      <td>INDIVIDUAL</td>\n",
       "      <td>0</td>\n",
       "      <td>NaN</td>\n",
       "      <td>0</td>\n",
       "      <td>NaN</td>\n",
       "      <td>NaN</td>\n",
       "    </tr>\n",
       "    <tr>\n",
       "      <th>39714</th>\n",
       "      <td>90395</td>\n",
       "      <td>90390</td>\n",
       "      <td>5000</td>\n",
       "      <td>5000</td>\n",
       "      <td>1325.0</td>\n",
       "      <td>36 months</td>\n",
       "      <td>8.07%</td>\n",
       "      <td>156.84</td>\n",
       "      <td>A</td>\n",
       "      <td>A4</td>\n",
       "      <td>...</td>\n",
       "      <td>0.00</td>\n",
       "      <td>Jun-07</td>\n",
       "      <td>NaN</td>\n",
       "      <td>1</td>\n",
       "      <td>INDIVIDUAL</td>\n",
       "      <td>0</td>\n",
       "      <td>NaN</td>\n",
       "      <td>0</td>\n",
       "      <td>NaN</td>\n",
       "      <td>NaN</td>\n",
       "    </tr>\n",
       "    <tr>\n",
       "      <th>39715</th>\n",
       "      <td>90376</td>\n",
       "      <td>89243</td>\n",
       "      <td>5000</td>\n",
       "      <td>5000</td>\n",
       "      <td>650.0</td>\n",
       "      <td>36 months</td>\n",
       "      <td>7.43%</td>\n",
       "      <td>155.38</td>\n",
       "      <td>A</td>\n",
       "      <td>A2</td>\n",
       "      <td>...</td>\n",
       "      <td>0.00</td>\n",
       "      <td>Jun-07</td>\n",
       "      <td>NaN</td>\n",
       "      <td>1</td>\n",
       "      <td>INDIVIDUAL</td>\n",
       "      <td>0</td>\n",
       "      <td>NaN</td>\n",
       "      <td>0</td>\n",
       "      <td>NaN</td>\n",
       "      <td>NaN</td>\n",
       "    </tr>\n",
       "    <tr>\n",
       "      <th>39716</th>\n",
       "      <td>87023</td>\n",
       "      <td>86999</td>\n",
       "      <td>7500</td>\n",
       "      <td>7500</td>\n",
       "      <td>800.0</td>\n",
       "      <td>36 months</td>\n",
       "      <td>13.75%</td>\n",
       "      <td>255.43</td>\n",
       "      <td>E</td>\n",
       "      <td>E2</td>\n",
       "      <td>...</td>\n",
       "      <td>256.59</td>\n",
       "      <td>Jun-10</td>\n",
       "      <td>NaN</td>\n",
       "      <td>1</td>\n",
       "      <td>INDIVIDUAL</td>\n",
       "      <td>0</td>\n",
       "      <td>NaN</td>\n",
       "      <td>0</td>\n",
       "      <td>NaN</td>\n",
       "      <td>NaN</td>\n",
       "    </tr>\n",
       "  </tbody>\n",
       "</table>\n",
       "<p>10 rows × 54 columns</p>\n",
       "</div>"
      ],
      "text/plain": [
       "          id  member_id  loan_amnt  funded_amnt  funded_amnt_inv        term  \\\n",
       "39707  92666      92661       5000         5000            525.0   36 months   \n",
       "39708  92552      92542       5000         5000            375.0   36 months   \n",
       "39709  92533      92529       5000         5000            675.0   36 months   \n",
       "39710  92507      92502       5000         5000            250.0   36 months   \n",
       "39711  92402      92390       5000         5000            700.0   36 months   \n",
       "39712  92187      92174       2500         2500           1075.0   36 months   \n",
       "39713  90665      90607       8500         8500            875.0   36 months   \n",
       "39714  90395      90390       5000         5000           1325.0   36 months   \n",
       "39715  90376      89243       5000         5000            650.0   36 months   \n",
       "39716  87023      86999       7500         7500            800.0   36 months   \n",
       "\n",
       "      int_rate  installment grade sub_grade  ... last_pymnt_amnt  \\\n",
       "39707    9.33%       159.77     B        B3  ...          161.55   \n",
       "39708    9.96%       161.25     B        B5  ...          162.07   \n",
       "39709   11.22%       164.23     C        C4  ...          165.17   \n",
       "39710    7.43%       155.38     A        A2  ...          156.29   \n",
       "39711    8.70%       158.30     B        B1  ...          159.83   \n",
       "39712    8.07%        78.42     A        A4  ...           80.90   \n",
       "39713   10.28%       275.38     C        C1  ...          281.94   \n",
       "39714    8.07%       156.84     A        A4  ...            0.00   \n",
       "39715    7.43%       155.38     A        A2  ...            0.00   \n",
       "39716   13.75%       255.43     E        E2  ...          256.59   \n",
       "\n",
       "      last_credit_pull_d collections_12_mths_ex_med  policy_code  \\\n",
       "39707             Jun-07                        NaN            1   \n",
       "39708             Jun-10                        NaN            1   \n",
       "39709             Jun-07                        NaN            1   \n",
       "39710             Jun-07                        NaN            1   \n",
       "39711             Nov-14                        NaN            1   \n",
       "39712             Jun-10                        NaN            1   \n",
       "39713             Jul-10                        NaN            1   \n",
       "39714             Jun-07                        NaN            1   \n",
       "39715             Jun-07                        NaN            1   \n",
       "39716             Jun-10                        NaN            1   \n",
       "\n",
       "      application_type acc_now_delinq chargeoff_within_12_mths delinq_amnt  \\\n",
       "39707       INDIVIDUAL              0                      NaN           0   \n",
       "39708       INDIVIDUAL              0                      NaN           0   \n",
       "39709       INDIVIDUAL              0                      NaN           0   \n",
       "39710       INDIVIDUAL              0                      NaN           0   \n",
       "39711       INDIVIDUAL              0                      NaN           0   \n",
       "39712       INDIVIDUAL              0                      NaN           0   \n",
       "39713       INDIVIDUAL              0                      NaN           0   \n",
       "39714       INDIVIDUAL              0                      NaN           0   \n",
       "39715       INDIVIDUAL              0                      NaN           0   \n",
       "39716       INDIVIDUAL              0                      NaN           0   \n",
       "\n",
       "      pub_rec_bankruptcies tax_liens  \n",
       "39707                  NaN       NaN  \n",
       "39708                  NaN       NaN  \n",
       "39709                  NaN       NaN  \n",
       "39710                  NaN       NaN  \n",
       "39711                  NaN       NaN  \n",
       "39712                  NaN       NaN  \n",
       "39713                  NaN       NaN  \n",
       "39714                  NaN       NaN  \n",
       "39715                  NaN       NaN  \n",
       "39716                  NaN       NaN  \n",
       "\n",
       "[10 rows x 54 columns]"
      ]
     },
     "execution_count": 170,
     "metadata": {},
     "output_type": "execute_result"
    }
   ],
   "source": [
    "#check values in the dataframe\n",
    "loan_cust.head(10)\n",
    "loan_cust.tail(10)"
   ]
  },
  {
   "cell_type": "code",
   "execution_count": 171,
   "id": "19a4315d",
   "metadata": {},
   "outputs": [
    {
     "data": {
      "text/plain": [
       "0.0    39678\n",
       "Name: tax_liens, dtype: int64"
      ]
     },
     "execution_count": 171,
     "metadata": {},
     "output_type": "execute_result"
    }
   ],
   "source": [
    "# Identified Nan, zero values in last 5 columns. checking further on these colunms\n",
    "loan_cust['tax_liens'].value_counts()\n",
    "\n"
   ]
  },
  {
   "cell_type": "code",
   "execution_count": 172,
   "id": "bfe25b61",
   "metadata": {},
   "outputs": [
    {
     "data": {
      "text/plain": [
       "0    39717\n",
       "Name: delinq_amnt, dtype: int64"
      ]
     },
     "execution_count": 172,
     "metadata": {},
     "output_type": "execute_result"
    }
   ],
   "source": [
    "loan_cust['delinq_amnt'].value_counts()"
   ]
  },
  {
   "cell_type": "code",
   "execution_count": 173,
   "id": "200e130e",
   "metadata": {},
   "outputs": [
    {
     "data": {
      "text/plain": [
       "0.0    37339\n",
       "1.0     1674\n",
       "2.0        7\n",
       "Name: pub_rec_bankruptcies, dtype: int64"
      ]
     },
     "execution_count": 173,
     "metadata": {},
     "output_type": "execute_result"
    }
   ],
   "source": [
    "loan_cust['pub_rec_bankruptcies'].value_counts()"
   ]
  },
  {
   "cell_type": "code",
   "execution_count": 174,
   "id": "2cbbde2f",
   "metadata": {},
   "outputs": [
    {
     "data": {
      "text/plain": [
       "0.0    39661\n",
       "Name: chargeoff_within_12_mths, dtype: int64"
      ]
     },
     "execution_count": 174,
     "metadata": {},
     "output_type": "execute_result"
    }
   ],
   "source": [
    "loan_cust['chargeoff_within_12_mths'].value_counts()"
   ]
  },
  {
   "cell_type": "code",
   "execution_count": 175,
   "id": "4951c45f",
   "metadata": {},
   "outputs": [
    {
     "data": {
      "text/plain": [
       "0.0    39661\n",
       "Name: collections_12_mths_ex_med, dtype: int64"
      ]
     },
     "execution_count": 175,
     "metadata": {},
     "output_type": "execute_result"
    }
   ],
   "source": [
    "loan_cust['collections_12_mths_ex_med'].value_counts()"
   ]
  },
  {
   "cell_type": "code",
   "execution_count": 176,
   "id": "0e264db0",
   "metadata": {},
   "outputs": [
    {
     "data": {
      "text/plain": [
       "0    39717\n",
       "Name: acc_now_delinq, dtype: int64"
      ]
     },
     "execution_count": 176,
     "metadata": {},
     "output_type": "execute_result"
    }
   ],
   "source": [
    "loan_cust['acc_now_delinq'].value_counts()"
   ]
  },
  {
   "cell_type": "code",
   "execution_count": 177,
   "id": "a8c9a447",
   "metadata": {},
   "outputs": [
    {
     "name": "stdout",
     "output_type": "stream",
     "text": [
      "<class 'pandas.core.frame.DataFrame'>\n",
      "RangeIndex: 39717 entries, 0 to 39716\n",
      "Data columns (total 49 columns):\n",
      " #   Column                   Non-Null Count  Dtype  \n",
      "---  ------                   --------------  -----  \n",
      " 0   id                       39717 non-null  int64  \n",
      " 1   member_id                39717 non-null  int64  \n",
      " 2   loan_amnt                39717 non-null  int64  \n",
      " 3   funded_amnt              39717 non-null  int64  \n",
      " 4   funded_amnt_inv          39717 non-null  float64\n",
      " 5   term                     39717 non-null  object \n",
      " 6   int_rate                 39717 non-null  object \n",
      " 7   installment              39717 non-null  float64\n",
      " 8   grade                    39717 non-null  object \n",
      " 9   sub_grade                39717 non-null  object \n",
      " 10  emp_title                37258 non-null  object \n",
      " 11  emp_length               38642 non-null  object \n",
      " 12  home_ownership           39717 non-null  object \n",
      " 13  annual_inc               39717 non-null  float64\n",
      " 14  verification_status      39717 non-null  object \n",
      " 15  issue_d                  39717 non-null  object \n",
      " 16  loan_status              39717 non-null  object \n",
      " 17  pymnt_plan               39717 non-null  object \n",
      " 18  url                      39717 non-null  object \n",
      " 19  desc                     26777 non-null  object \n",
      " 20  purpose                  39717 non-null  object \n",
      " 21  title                    39706 non-null  object \n",
      " 22  zip_code                 39717 non-null  object \n",
      " 23  addr_state               39717 non-null  object \n",
      " 24  dti                      39717 non-null  float64\n",
      " 25  delinq_2yrs              39717 non-null  int64  \n",
      " 26  earliest_cr_line         39717 non-null  object \n",
      " 27  inq_last_6mths           39717 non-null  int64  \n",
      " 28  open_acc                 39717 non-null  int64  \n",
      " 29  pub_rec                  39717 non-null  int64  \n",
      " 30  revol_bal                39717 non-null  int64  \n",
      " 31  revol_util               39667 non-null  object \n",
      " 32  total_acc                39717 non-null  int64  \n",
      " 33  initial_list_status      39717 non-null  object \n",
      " 34  out_prncp                39717 non-null  float64\n",
      " 35  out_prncp_inv            39717 non-null  float64\n",
      " 36  total_pymnt              39717 non-null  float64\n",
      " 37  total_pymnt_inv          39717 non-null  float64\n",
      " 38  total_rec_prncp          39717 non-null  float64\n",
      " 39  total_rec_int            39717 non-null  float64\n",
      " 40  total_rec_late_fee       39717 non-null  float64\n",
      " 41  recoveries               39717 non-null  float64\n",
      " 42  collection_recovery_fee  39717 non-null  float64\n",
      " 43  last_pymnt_d             39646 non-null  object \n",
      " 44  last_pymnt_amnt          39717 non-null  float64\n",
      " 45  last_credit_pull_d       39715 non-null  object \n",
      " 46  policy_code              39717 non-null  int64  \n",
      " 47  application_type         39717 non-null  object \n",
      " 48  pub_rec_bankruptcies     39020 non-null  float64\n",
      "dtypes: float64(15), int64(11), object(23)\n",
      "memory usage: 14.8+ MB\n"
     ]
    }
   ],
   "source": [
    "## removing columns based on above result (Nan or zero)\n",
    "\n",
    "loan_cust.drop(labels=['acc_now_delinq','collections_12_mths_ex_med','chargeoff_within_12_mths','delinq_amnt','tax_liens'],axis=1,inplace=True)\n",
    "\n",
    "loan_cust.info()"
   ]
  },
  {
   "cell_type": "code",
   "execution_count": 178,
   "id": "a1037283",
   "metadata": {},
   "outputs": [
    {
     "data": {
      "text/html": [
       "<div>\n",
       "<style scoped>\n",
       "    .dataframe tbody tr th:only-of-type {\n",
       "        vertical-align: middle;\n",
       "    }\n",
       "\n",
       "    .dataframe tbody tr th {\n",
       "        vertical-align: top;\n",
       "    }\n",
       "\n",
       "    .dataframe thead th {\n",
       "        text-align: right;\n",
       "    }\n",
       "</style>\n",
       "<table border=\"1\" class=\"dataframe\">\n",
       "  <thead>\n",
       "    <tr style=\"text-align: right;\">\n",
       "      <th></th>\n",
       "      <th>id</th>\n",
       "      <th>member_id</th>\n",
       "      <th>loan_amnt</th>\n",
       "      <th>funded_amnt</th>\n",
       "      <th>funded_amnt_inv</th>\n",
       "      <th>term</th>\n",
       "      <th>int_rate</th>\n",
       "      <th>installment</th>\n",
       "      <th>grade</th>\n",
       "      <th>sub_grade</th>\n",
       "      <th>...</th>\n",
       "      <th>total_rec_int</th>\n",
       "      <th>total_rec_late_fee</th>\n",
       "      <th>recoveries</th>\n",
       "      <th>collection_recovery_fee</th>\n",
       "      <th>last_pymnt_d</th>\n",
       "      <th>last_pymnt_amnt</th>\n",
       "      <th>last_credit_pull_d</th>\n",
       "      <th>policy_code</th>\n",
       "      <th>application_type</th>\n",
       "      <th>pub_rec_bankruptcies</th>\n",
       "    </tr>\n",
       "  </thead>\n",
       "  <tbody>\n",
       "    <tr>\n",
       "      <th>0</th>\n",
       "      <td>1077501</td>\n",
       "      <td>1296599</td>\n",
       "      <td>5000</td>\n",
       "      <td>5000</td>\n",
       "      <td>4975.0</td>\n",
       "      <td>36 months</td>\n",
       "      <td>10.65%</td>\n",
       "      <td>162.87</td>\n",
       "      <td>B</td>\n",
       "      <td>B2</td>\n",
       "      <td>...</td>\n",
       "      <td>863.16</td>\n",
       "      <td>0.00</td>\n",
       "      <td>0.00</td>\n",
       "      <td>0.00</td>\n",
       "      <td>Jan-15</td>\n",
       "      <td>171.62</td>\n",
       "      <td>May-16</td>\n",
       "      <td>1</td>\n",
       "      <td>INDIVIDUAL</td>\n",
       "      <td>0.0</td>\n",
       "    </tr>\n",
       "    <tr>\n",
       "      <th>1</th>\n",
       "      <td>1077430</td>\n",
       "      <td>1314167</td>\n",
       "      <td>2500</td>\n",
       "      <td>2500</td>\n",
       "      <td>2500.0</td>\n",
       "      <td>60 months</td>\n",
       "      <td>15.27%</td>\n",
       "      <td>59.83</td>\n",
       "      <td>C</td>\n",
       "      <td>C4</td>\n",
       "      <td>...</td>\n",
       "      <td>435.17</td>\n",
       "      <td>0.00</td>\n",
       "      <td>117.08</td>\n",
       "      <td>1.11</td>\n",
       "      <td>Apr-13</td>\n",
       "      <td>119.66</td>\n",
       "      <td>Sep-13</td>\n",
       "      <td>1</td>\n",
       "      <td>INDIVIDUAL</td>\n",
       "      <td>0.0</td>\n",
       "    </tr>\n",
       "    <tr>\n",
       "      <th>2</th>\n",
       "      <td>1077175</td>\n",
       "      <td>1313524</td>\n",
       "      <td>2400</td>\n",
       "      <td>2400</td>\n",
       "      <td>2400.0</td>\n",
       "      <td>36 months</td>\n",
       "      <td>15.96%</td>\n",
       "      <td>84.33</td>\n",
       "      <td>C</td>\n",
       "      <td>C5</td>\n",
       "      <td>...</td>\n",
       "      <td>605.67</td>\n",
       "      <td>0.00</td>\n",
       "      <td>0.00</td>\n",
       "      <td>0.00</td>\n",
       "      <td>Jun-14</td>\n",
       "      <td>649.91</td>\n",
       "      <td>May-16</td>\n",
       "      <td>1</td>\n",
       "      <td>INDIVIDUAL</td>\n",
       "      <td>0.0</td>\n",
       "    </tr>\n",
       "    <tr>\n",
       "      <th>3</th>\n",
       "      <td>1076863</td>\n",
       "      <td>1277178</td>\n",
       "      <td>10000</td>\n",
       "      <td>10000</td>\n",
       "      <td>10000.0</td>\n",
       "      <td>36 months</td>\n",
       "      <td>13.49%</td>\n",
       "      <td>339.31</td>\n",
       "      <td>C</td>\n",
       "      <td>C1</td>\n",
       "      <td>...</td>\n",
       "      <td>2214.92</td>\n",
       "      <td>16.97</td>\n",
       "      <td>0.00</td>\n",
       "      <td>0.00</td>\n",
       "      <td>Jan-15</td>\n",
       "      <td>357.48</td>\n",
       "      <td>Apr-16</td>\n",
       "      <td>1</td>\n",
       "      <td>INDIVIDUAL</td>\n",
       "      <td>0.0</td>\n",
       "    </tr>\n",
       "    <tr>\n",
       "      <th>4</th>\n",
       "      <td>1075358</td>\n",
       "      <td>1311748</td>\n",
       "      <td>3000</td>\n",
       "      <td>3000</td>\n",
       "      <td>3000.0</td>\n",
       "      <td>60 months</td>\n",
       "      <td>12.69%</td>\n",
       "      <td>67.79</td>\n",
       "      <td>B</td>\n",
       "      <td>B5</td>\n",
       "      <td>...</td>\n",
       "      <td>1037.39</td>\n",
       "      <td>0.00</td>\n",
       "      <td>0.00</td>\n",
       "      <td>0.00</td>\n",
       "      <td>May-16</td>\n",
       "      <td>67.79</td>\n",
       "      <td>May-16</td>\n",
       "      <td>1</td>\n",
       "      <td>INDIVIDUAL</td>\n",
       "      <td>0.0</td>\n",
       "    </tr>\n",
       "  </tbody>\n",
       "</table>\n",
       "<p>5 rows × 49 columns</p>\n",
       "</div>"
      ],
      "text/plain": [
       "        id  member_id  loan_amnt  funded_amnt  funded_amnt_inv        term  \\\n",
       "0  1077501    1296599       5000         5000           4975.0   36 months   \n",
       "1  1077430    1314167       2500         2500           2500.0   60 months   \n",
       "2  1077175    1313524       2400         2400           2400.0   36 months   \n",
       "3  1076863    1277178      10000        10000          10000.0   36 months   \n",
       "4  1075358    1311748       3000         3000           3000.0   60 months   \n",
       "\n",
       "  int_rate  installment grade sub_grade  ... total_rec_int total_rec_late_fee  \\\n",
       "0   10.65%       162.87     B        B2  ...        863.16               0.00   \n",
       "1   15.27%        59.83     C        C4  ...        435.17               0.00   \n",
       "2   15.96%        84.33     C        C5  ...        605.67               0.00   \n",
       "3   13.49%       339.31     C        C1  ...       2214.92              16.97   \n",
       "4   12.69%        67.79     B        B5  ...       1037.39               0.00   \n",
       "\n",
       "  recoveries  collection_recovery_fee last_pymnt_d last_pymnt_amnt  \\\n",
       "0       0.00                     0.00       Jan-15          171.62   \n",
       "1     117.08                     1.11       Apr-13          119.66   \n",
       "2       0.00                     0.00       Jun-14          649.91   \n",
       "3       0.00                     0.00       Jan-15          357.48   \n",
       "4       0.00                     0.00       May-16           67.79   \n",
       "\n",
       "  last_credit_pull_d policy_code application_type pub_rec_bankruptcies  \n",
       "0             May-16           1       INDIVIDUAL                  0.0  \n",
       "1             Sep-13           1       INDIVIDUAL                  0.0  \n",
       "2             May-16           1       INDIVIDUAL                  0.0  \n",
       "3             Apr-16           1       INDIVIDUAL                  0.0  \n",
       "4             May-16           1       INDIVIDUAL                  0.0  \n",
       "\n",
       "[5 rows x 49 columns]"
      ]
     },
     "execution_count": 178,
     "metadata": {},
     "output_type": "execute_result"
    }
   ],
   "source": [
    "loan_cust.head(5)"
   ]
  },
  {
   "cell_type": "code",
   "execution_count": 179,
   "id": "46ade657",
   "metadata": {},
   "outputs": [
    {
     "name": "stdout",
     "output_type": "stream",
     "text": [
      "Empty Rows in dataset:  0\n",
      "EMpty columsn in dataset:  0\n"
     ]
    }
   ],
   "source": [
    "## Check Empty rows and cplumsn \n",
    "\n",
    "print('Empty Rows in dataset: ',loan_cust.isnull().all(axis=1).sum())\n",
    "print('EMpty columsn in dataset: ',loan_cust.isnull().all(axis=0).sum())"
   ]
  },
  {
   "cell_type": "code",
   "execution_count": 180,
   "id": "17196e1a",
   "metadata": {},
   "outputs": [
    {
     "name": "stdout",
     "output_type": "stream",
     "text": [
      "<class 'pandas.core.frame.DataFrame'>\n",
      "RangeIndex: 39717 entries, 0 to 39716\n",
      "Data columns (total 49 columns):\n",
      " #   Column                   Non-Null Count  Dtype  \n",
      "---  ------                   --------------  -----  \n",
      " 0   id                       39717 non-null  int64  \n",
      " 1   member_id                39717 non-null  int64  \n",
      " 2   loan_amnt                39717 non-null  int64  \n",
      " 3   funded_amnt              39717 non-null  int64  \n",
      " 4   funded_amnt_inv          39717 non-null  float64\n",
      " 5   term                     39717 non-null  object \n",
      " 6   int_rate                 39717 non-null  object \n",
      " 7   installment              39717 non-null  float64\n",
      " 8   grade                    39717 non-null  object \n",
      " 9   sub_grade                39717 non-null  object \n",
      " 10  emp_title                37258 non-null  object \n",
      " 11  emp_length               38642 non-null  object \n",
      " 12  home_ownership           39717 non-null  object \n",
      " 13  annual_inc               39717 non-null  float64\n",
      " 14  verification_status      39717 non-null  object \n",
      " 15  issue_d                  39717 non-null  object \n",
      " 16  loan_status              39717 non-null  object \n",
      " 17  pymnt_plan               39717 non-null  object \n",
      " 18  url                      39717 non-null  object \n",
      " 19  desc                     26777 non-null  object \n",
      " 20  purpose                  39717 non-null  object \n",
      " 21  title                    39706 non-null  object \n",
      " 22  zip_code                 39717 non-null  object \n",
      " 23  addr_state               39717 non-null  object \n",
      " 24  dti                      39717 non-null  float64\n",
      " 25  delinq_2yrs              39717 non-null  int64  \n",
      " 26  earliest_cr_line         39717 non-null  object \n",
      " 27  inq_last_6mths           39717 non-null  int64  \n",
      " 28  open_acc                 39717 non-null  int64  \n",
      " 29  pub_rec                  39717 non-null  int64  \n",
      " 30  revol_bal                39717 non-null  int64  \n",
      " 31  revol_util               39667 non-null  object \n",
      " 32  total_acc                39717 non-null  int64  \n",
      " 33  initial_list_status      39717 non-null  object \n",
      " 34  out_prncp                39717 non-null  float64\n",
      " 35  out_prncp_inv            39717 non-null  float64\n",
      " 36  total_pymnt              39717 non-null  float64\n",
      " 37  total_pymnt_inv          39717 non-null  float64\n",
      " 38  total_rec_prncp          39717 non-null  float64\n",
      " 39  total_rec_int            39717 non-null  float64\n",
      " 40  total_rec_late_fee       39717 non-null  float64\n",
      " 41  recoveries               39717 non-null  float64\n",
      " 42  collection_recovery_fee  39717 non-null  float64\n",
      " 43  last_pymnt_d             39646 non-null  object \n",
      " 44  last_pymnt_amnt          39717 non-null  float64\n",
      " 45  last_credit_pull_d       39715 non-null  object \n",
      " 46  policy_code              39717 non-null  int64  \n",
      " 47  application_type         39717 non-null  object \n",
      " 48  pub_rec_bankruptcies     39020 non-null  float64\n",
      "dtypes: float64(15), int64(11), object(23)\n",
      "memory usage: 14.8+ MB\n"
     ]
    }
   ],
   "source": [
    "loan_cust.info()"
   ]
  },
  {
   "cell_type": "code",
   "execution_count": 208,
   "id": "540ea7ca",
   "metadata": {},
   "outputs": [],
   "source": [
    "#Rmove those colums which are not required like desc, member_id, zip_code, emp_title and other \n",
    "\n",
    "\n",
    "loan_cust.drop(labels=['member_id','zip_code','emp_title','desc','url',\"application_type\",\"policy_code\",\"initial_list_status\",\"installment\",\"pymnt_plan\"],axis=1,inplace=True)\n"
   ]
  },
  {
   "cell_type": "code",
   "execution_count": 199,
   "id": "5cc30669",
   "metadata": {},
   "outputs": [
    {
     "data": {
      "text/html": [
       "<div>\n",
       "<style scoped>\n",
       "    .dataframe tbody tr th:only-of-type {\n",
       "        vertical-align: middle;\n",
       "    }\n",
       "\n",
       "    .dataframe tbody tr th {\n",
       "        vertical-align: top;\n",
       "    }\n",
       "\n",
       "    .dataframe thead th {\n",
       "        text-align: right;\n",
       "    }\n",
       "</style>\n",
       "<table border=\"1\" class=\"dataframe\">\n",
       "  <thead>\n",
       "    <tr style=\"text-align: right;\">\n",
       "      <th></th>\n",
       "      <th>id</th>\n",
       "      <th>loan_amnt</th>\n",
       "      <th>funded_amnt</th>\n",
       "      <th>funded_amnt_inv</th>\n",
       "      <th>term</th>\n",
       "      <th>int_rate</th>\n",
       "      <th>installment</th>\n",
       "      <th>grade</th>\n",
       "      <th>sub_grade</th>\n",
       "      <th>emp_length</th>\n",
       "      <th>...</th>\n",
       "      <th>collection_recovery_fee</th>\n",
       "      <th>last_pymnt_d</th>\n",
       "      <th>last_pymnt_amnt</th>\n",
       "      <th>last_credit_pull_d</th>\n",
       "      <th>policy_code</th>\n",
       "      <th>application_type</th>\n",
       "      <th>pub_rec_bankruptcies</th>\n",
       "      <th>year</th>\n",
       "      <th>month</th>\n",
       "      <th>loan_amnt_cats</th>\n",
       "    </tr>\n",
       "  </thead>\n",
       "  <tbody>\n",
       "    <tr>\n",
       "      <th>0</th>\n",
       "      <td>1077501</td>\n",
       "      <td>5000</td>\n",
       "      <td>5000</td>\n",
       "      <td>4975.0</td>\n",
       "      <td>36</td>\n",
       "      <td>10.65</td>\n",
       "      <td>162.87</td>\n",
       "      <td>B</td>\n",
       "      <td>B2</td>\n",
       "      <td>10</td>\n",
       "      <td>...</td>\n",
       "      <td>0.00</td>\n",
       "      <td>Jan-15</td>\n",
       "      <td>171.62</td>\n",
       "      <td>May-16</td>\n",
       "      <td>1</td>\n",
       "      <td>INDIVIDUAL</td>\n",
       "      <td>0.0</td>\n",
       "      <td>2011</td>\n",
       "      <td>12</td>\n",
       "      <td>0-7000</td>\n",
       "    </tr>\n",
       "    <tr>\n",
       "      <th>1</th>\n",
       "      <td>1077430</td>\n",
       "      <td>2500</td>\n",
       "      <td>2500</td>\n",
       "      <td>2500.0</td>\n",
       "      <td>60</td>\n",
       "      <td>15.27</td>\n",
       "      <td>59.83</td>\n",
       "      <td>C</td>\n",
       "      <td>C4</td>\n",
       "      <td>1</td>\n",
       "      <td>...</td>\n",
       "      <td>1.11</td>\n",
       "      <td>Apr-13</td>\n",
       "      <td>119.66</td>\n",
       "      <td>Sep-13</td>\n",
       "      <td>1</td>\n",
       "      <td>INDIVIDUAL</td>\n",
       "      <td>0.0</td>\n",
       "      <td>2011</td>\n",
       "      <td>12</td>\n",
       "      <td>0-7000</td>\n",
       "    </tr>\n",
       "    <tr>\n",
       "      <th>2</th>\n",
       "      <td>1077175</td>\n",
       "      <td>2400</td>\n",
       "      <td>2400</td>\n",
       "      <td>2400.0</td>\n",
       "      <td>36</td>\n",
       "      <td>15.96</td>\n",
       "      <td>84.33</td>\n",
       "      <td>C</td>\n",
       "      <td>C5</td>\n",
       "      <td>10</td>\n",
       "      <td>...</td>\n",
       "      <td>0.00</td>\n",
       "      <td>Jun-14</td>\n",
       "      <td>649.91</td>\n",
       "      <td>May-16</td>\n",
       "      <td>1</td>\n",
       "      <td>INDIVIDUAL</td>\n",
       "      <td>0.0</td>\n",
       "      <td>2011</td>\n",
       "      <td>12</td>\n",
       "      <td>0-7000</td>\n",
       "    </tr>\n",
       "    <tr>\n",
       "      <th>3</th>\n",
       "      <td>1076863</td>\n",
       "      <td>10000</td>\n",
       "      <td>10000</td>\n",
       "      <td>10000.0</td>\n",
       "      <td>36</td>\n",
       "      <td>13.49</td>\n",
       "      <td>339.31</td>\n",
       "      <td>C</td>\n",
       "      <td>C1</td>\n",
       "      <td>10</td>\n",
       "      <td>...</td>\n",
       "      <td>0.00</td>\n",
       "      <td>Jan-15</td>\n",
       "      <td>357.48</td>\n",
       "      <td>Apr-16</td>\n",
       "      <td>1</td>\n",
       "      <td>INDIVIDUAL</td>\n",
       "      <td>0.0</td>\n",
       "      <td>2011</td>\n",
       "      <td>12</td>\n",
       "      <td>7000-14000</td>\n",
       "    </tr>\n",
       "    <tr>\n",
       "      <th>4</th>\n",
       "      <td>1075358</td>\n",
       "      <td>3000</td>\n",
       "      <td>3000</td>\n",
       "      <td>3000.0</td>\n",
       "      <td>60</td>\n",
       "      <td>12.69</td>\n",
       "      <td>67.79</td>\n",
       "      <td>B</td>\n",
       "      <td>B5</td>\n",
       "      <td>1</td>\n",
       "      <td>...</td>\n",
       "      <td>0.00</td>\n",
       "      <td>May-16</td>\n",
       "      <td>67.79</td>\n",
       "      <td>May-16</td>\n",
       "      <td>1</td>\n",
       "      <td>INDIVIDUAL</td>\n",
       "      <td>0.0</td>\n",
       "      <td>2011</td>\n",
       "      <td>12</td>\n",
       "      <td>0-7000</td>\n",
       "    </tr>\n",
       "  </tbody>\n",
       "</table>\n",
       "<p>5 rows × 47 columns</p>\n",
       "</div>"
      ],
      "text/plain": [
       "        id  loan_amnt  funded_amnt  funded_amnt_inv  term int_rate  \\\n",
       "0  1077501       5000         5000           4975.0    36    10.65   \n",
       "1  1077430       2500         2500           2500.0    60    15.27   \n",
       "2  1077175       2400         2400           2400.0    36    15.96   \n",
       "3  1076863      10000        10000          10000.0    36    13.49   \n",
       "4  1075358       3000         3000           3000.0    60    12.69   \n",
       "\n",
       "   installment grade sub_grade emp_length  ... collection_recovery_fee  \\\n",
       "0       162.87     B        B2         10  ...                    0.00   \n",
       "1        59.83     C        C4          1  ...                    1.11   \n",
       "2        84.33     C        C5         10  ...                    0.00   \n",
       "3       339.31     C        C1         10  ...                    0.00   \n",
       "4        67.79     B        B5          1  ...                    0.00   \n",
       "\n",
       "   last_pymnt_d last_pymnt_amnt last_credit_pull_d policy_code  \\\n",
       "0        Jan-15          171.62             May-16           1   \n",
       "1        Apr-13          119.66             Sep-13           1   \n",
       "2        Jun-14          649.91             May-16           1   \n",
       "3        Jan-15          357.48             Apr-16           1   \n",
       "4        May-16           67.79             May-16           1   \n",
       "\n",
       "  application_type pub_rec_bankruptcies  year month  loan_amnt_cats  \n",
       "0       INDIVIDUAL                  0.0  2011    12          0-7000  \n",
       "1       INDIVIDUAL                  0.0  2011    12          0-7000  \n",
       "2       INDIVIDUAL                  0.0  2011    12          0-7000  \n",
       "3       INDIVIDUAL                  0.0  2011    12      7000-14000  \n",
       "4       INDIVIDUAL                  0.0  2011    12          0-7000  \n",
       "\n",
       "[5 rows x 47 columns]"
      ]
     },
     "execution_count": 199,
     "metadata": {},
     "output_type": "execute_result"
    }
   ],
   "source": [
    "# Remove string \"months\" - from term column \n",
    "loan_cust['term'] = loan_cust[['term']].applymap(lambda x:str(x).rstrip('months'))\n",
    "loan_cust['term'] = loan_cust['term'].astype('int64')\n",
    "loan_cust.head(5)"
   ]
  },
  {
   "cell_type": "code",
   "execution_count": 183,
   "id": "cc36b39b",
   "metadata": {},
   "outputs": [],
   "source": [
    "## COlumn int_rate and  - remove % symbol from the values \n",
    "loan_cust['int_rate'] = loan_cust['int_rate'].str.rstrip('%')\n",
    "loan_cust['revol_util'] = loan_cust['revol_util'].str.rstrip('%')"
   ]
  },
  {
   "cell_type": "code",
   "execution_count": 184,
   "id": "f217c8dc",
   "metadata": {},
   "outputs": [
    {
     "data": {
      "text/plain": [
       "10    8879\n",
       "1     7823\n",
       "2     4388\n",
       "3     4095\n",
       "4     3436\n",
       "5     3282\n",
       "6     2229\n",
       "7     1773\n",
       "8     1479\n",
       "9     1258\n",
       "Name: emp_length, dtype: int64"
      ]
     },
     "execution_count": 184,
     "metadata": {},
     "output_type": "execute_result"
    }
   ],
   "source": [
    "## Treat the emp_length column to have only integers\n",
    "# remove additional characters like +,<, years\n",
    "loan_cust['emp_length'].value_counts()\n",
    "loan_cust['emp_length']=loan_cust.emp_length.str.extract('(\\d+)')\n",
    "loan_cust['emp_length'].value_counts()"
   ]
  },
  {
   "cell_type": "code",
   "execution_count": 185,
   "id": "944e606f",
   "metadata": {},
   "outputs": [
    {
     "name": "stdout",
     "output_type": "stream",
     "text": [
      "<class 'pandas.core.frame.DataFrame'>\n",
      "RangeIndex: 39717 entries, 0 to 39716\n",
      "Data columns (total 44 columns):\n",
      " #   Column                   Non-Null Count  Dtype  \n",
      "---  ------                   --------------  -----  \n",
      " 0   id                       39717 non-null  int64  \n",
      " 1   loan_amnt                39717 non-null  int64  \n",
      " 2   funded_amnt              39717 non-null  int64  \n",
      " 3   funded_amnt_inv          39717 non-null  float64\n",
      " 4   term                     39717 non-null  object \n",
      " 5   int_rate                 39717 non-null  object \n",
      " 6   installment              39717 non-null  float64\n",
      " 7   grade                    39717 non-null  object \n",
      " 8   sub_grade                39717 non-null  object \n",
      " 9   emp_length               38642 non-null  object \n",
      " 10  home_ownership           39717 non-null  object \n",
      " 11  annual_inc               39717 non-null  float64\n",
      " 12  verification_status      39717 non-null  object \n",
      " 13  issue_d                  39717 non-null  object \n",
      " 14  loan_status              39717 non-null  object \n",
      " 15  pymnt_plan               39717 non-null  object \n",
      " 16  purpose                  39717 non-null  object \n",
      " 17  title                    39706 non-null  object \n",
      " 18  addr_state               39717 non-null  object \n",
      " 19  dti                      39717 non-null  float64\n",
      " 20  delinq_2yrs              39717 non-null  int64  \n",
      " 21  earliest_cr_line         39717 non-null  object \n",
      " 22  inq_last_6mths           39717 non-null  int64  \n",
      " 23  open_acc                 39717 non-null  int64  \n",
      " 24  pub_rec                  39717 non-null  int64  \n",
      " 25  revol_bal                39717 non-null  int64  \n",
      " 26  revol_util               39667 non-null  object \n",
      " 27  total_acc                39717 non-null  int64  \n",
      " 28  initial_list_status      39717 non-null  object \n",
      " 29  out_prncp                39717 non-null  float64\n",
      " 30  out_prncp_inv            39717 non-null  float64\n",
      " 31  total_pymnt              39717 non-null  float64\n",
      " 32  total_pymnt_inv          39717 non-null  float64\n",
      " 33  total_rec_prncp          39717 non-null  float64\n",
      " 34  total_rec_int            39717 non-null  float64\n",
      " 35  total_rec_late_fee       39717 non-null  float64\n",
      " 36  recoveries               39717 non-null  float64\n",
      " 37  collection_recovery_fee  39717 non-null  float64\n",
      " 38  last_pymnt_d             39646 non-null  object \n",
      " 39  last_pymnt_amnt          39717 non-null  float64\n",
      " 40  last_credit_pull_d       39715 non-null  object \n",
      " 41  policy_code              39717 non-null  int64  \n",
      " 42  application_type         39717 non-null  object \n",
      " 43  pub_rec_bankruptcies     39020 non-null  float64\n",
      "dtypes: float64(15), int64(10), object(19)\n",
      "memory usage: 13.3+ MB\n"
     ]
    }
   ],
   "source": [
    "loan_cust.info()"
   ]
  },
  {
   "cell_type": "markdown",
   "id": "3df0e888",
   "metadata": {},
   "source": [
    "## Derive new columns  from exisitng data"
   ]
  },
  {
   "cell_type": "code",
   "execution_count": 187,
   "id": "3752c95b",
   "metadata": {},
   "outputs": [],
   "source": [
    "# Derived columns\n",
    "\n",
    "loan_cust.issue_d = pd.to_datetime(loan_cust.issue_d, format='%b-%y')\n",
    "loan_cust['year'] = loan_cust['issue_d'].dt.year\n",
    "loan_cust['month'] = loan_cust['issue_d'].dt.month"
   ]
  },
  {
   "cell_type": "code",
   "execution_count": 201,
   "id": "3c13ded9",
   "metadata": {},
   "outputs": [
    {
     "data": {
      "text/html": [
       "<div>\n",
       "<style scoped>\n",
       "    .dataframe tbody tr th:only-of-type {\n",
       "        vertical-align: middle;\n",
       "    }\n",
       "\n",
       "    .dataframe tbody tr th {\n",
       "        vertical-align: top;\n",
       "    }\n",
       "\n",
       "    .dataframe thead th {\n",
       "        text-align: right;\n",
       "    }\n",
       "</style>\n",
       "<table border=\"1\" class=\"dataframe\">\n",
       "  <thead>\n",
       "    <tr style=\"text-align: right;\">\n",
       "      <th></th>\n",
       "      <th>id</th>\n",
       "      <th>loan_amnt</th>\n",
       "      <th>funded_amnt</th>\n",
       "      <th>funded_amnt_inv</th>\n",
       "      <th>term</th>\n",
       "      <th>int_rate</th>\n",
       "      <th>installment</th>\n",
       "      <th>grade</th>\n",
       "      <th>sub_grade</th>\n",
       "      <th>emp_length</th>\n",
       "      <th>...</th>\n",
       "      <th>collection_recovery_fee</th>\n",
       "      <th>last_pymnt_d</th>\n",
       "      <th>last_pymnt_amnt</th>\n",
       "      <th>last_credit_pull_d</th>\n",
       "      <th>policy_code</th>\n",
       "      <th>application_type</th>\n",
       "      <th>pub_rec_bankruptcies</th>\n",
       "      <th>year</th>\n",
       "      <th>month</th>\n",
       "      <th>loan_amnt_cats</th>\n",
       "    </tr>\n",
       "  </thead>\n",
       "  <tbody>\n",
       "    <tr>\n",
       "      <th>0</th>\n",
       "      <td>1077501</td>\n",
       "      <td>5000</td>\n",
       "      <td>5000</td>\n",
       "      <td>4975.0</td>\n",
       "      <td>36</td>\n",
       "      <td>10.65</td>\n",
       "      <td>162.87</td>\n",
       "      <td>B</td>\n",
       "      <td>B2</td>\n",
       "      <td>10</td>\n",
       "      <td>...</td>\n",
       "      <td>0.00</td>\n",
       "      <td>Jan-15</td>\n",
       "      <td>171.62</td>\n",
       "      <td>May-16</td>\n",
       "      <td>1</td>\n",
       "      <td>INDIVIDUAL</td>\n",
       "      <td>0.0</td>\n",
       "      <td>2011</td>\n",
       "      <td>12</td>\n",
       "      <td>0-7000</td>\n",
       "    </tr>\n",
       "    <tr>\n",
       "      <th>1</th>\n",
       "      <td>1077430</td>\n",
       "      <td>2500</td>\n",
       "      <td>2500</td>\n",
       "      <td>2500.0</td>\n",
       "      <td>60</td>\n",
       "      <td>15.27</td>\n",
       "      <td>59.83</td>\n",
       "      <td>C</td>\n",
       "      <td>C4</td>\n",
       "      <td>1</td>\n",
       "      <td>...</td>\n",
       "      <td>1.11</td>\n",
       "      <td>Apr-13</td>\n",
       "      <td>119.66</td>\n",
       "      <td>Sep-13</td>\n",
       "      <td>1</td>\n",
       "      <td>INDIVIDUAL</td>\n",
       "      <td>0.0</td>\n",
       "      <td>2011</td>\n",
       "      <td>12</td>\n",
       "      <td>0-7000</td>\n",
       "    </tr>\n",
       "    <tr>\n",
       "      <th>2</th>\n",
       "      <td>1077175</td>\n",
       "      <td>2400</td>\n",
       "      <td>2400</td>\n",
       "      <td>2400.0</td>\n",
       "      <td>36</td>\n",
       "      <td>15.96</td>\n",
       "      <td>84.33</td>\n",
       "      <td>C</td>\n",
       "      <td>C5</td>\n",
       "      <td>10</td>\n",
       "      <td>...</td>\n",
       "      <td>0.00</td>\n",
       "      <td>Jun-14</td>\n",
       "      <td>649.91</td>\n",
       "      <td>May-16</td>\n",
       "      <td>1</td>\n",
       "      <td>INDIVIDUAL</td>\n",
       "      <td>0.0</td>\n",
       "      <td>2011</td>\n",
       "      <td>12</td>\n",
       "      <td>0-7000</td>\n",
       "    </tr>\n",
       "    <tr>\n",
       "      <th>3</th>\n",
       "      <td>1076863</td>\n",
       "      <td>10000</td>\n",
       "      <td>10000</td>\n",
       "      <td>10000.0</td>\n",
       "      <td>36</td>\n",
       "      <td>13.49</td>\n",
       "      <td>339.31</td>\n",
       "      <td>C</td>\n",
       "      <td>C1</td>\n",
       "      <td>10</td>\n",
       "      <td>...</td>\n",
       "      <td>0.00</td>\n",
       "      <td>Jan-15</td>\n",
       "      <td>357.48</td>\n",
       "      <td>Apr-16</td>\n",
       "      <td>1</td>\n",
       "      <td>INDIVIDUAL</td>\n",
       "      <td>0.0</td>\n",
       "      <td>2011</td>\n",
       "      <td>12</td>\n",
       "      <td>7000-14000</td>\n",
       "    </tr>\n",
       "    <tr>\n",
       "      <th>4</th>\n",
       "      <td>1075358</td>\n",
       "      <td>3000</td>\n",
       "      <td>3000</td>\n",
       "      <td>3000.0</td>\n",
       "      <td>60</td>\n",
       "      <td>12.69</td>\n",
       "      <td>67.79</td>\n",
       "      <td>B</td>\n",
       "      <td>B5</td>\n",
       "      <td>1</td>\n",
       "      <td>...</td>\n",
       "      <td>0.00</td>\n",
       "      <td>May-16</td>\n",
       "      <td>67.79</td>\n",
       "      <td>May-16</td>\n",
       "      <td>1</td>\n",
       "      <td>INDIVIDUAL</td>\n",
       "      <td>0.0</td>\n",
       "      <td>2011</td>\n",
       "      <td>12</td>\n",
       "      <td>0-7000</td>\n",
       "    </tr>\n",
       "  </tbody>\n",
       "</table>\n",
       "<p>5 rows × 47 columns</p>\n",
       "</div>"
      ],
      "text/plain": [
       "        id  loan_amnt  funded_amnt  funded_amnt_inv  term int_rate  \\\n",
       "0  1077501       5000         5000           4975.0    36    10.65   \n",
       "1  1077430       2500         2500           2500.0    60    15.27   \n",
       "2  1077175       2400         2400           2400.0    36    15.96   \n",
       "3  1076863      10000        10000          10000.0    36    13.49   \n",
       "4  1075358       3000         3000           3000.0    60    12.69   \n",
       "\n",
       "   installment grade sub_grade emp_length  ... collection_recovery_fee  \\\n",
       "0       162.87     B        B2         10  ...                    0.00   \n",
       "1        59.83     C        C4          1  ...                    1.11   \n",
       "2        84.33     C        C5         10  ...                    0.00   \n",
       "3       339.31     C        C1         10  ...                    0.00   \n",
       "4        67.79     B        B5          1  ...                    0.00   \n",
       "\n",
       "   last_pymnt_d last_pymnt_amnt last_credit_pull_d policy_code  \\\n",
       "0        Jan-15          171.62             May-16           1   \n",
       "1        Apr-13          119.66             Sep-13           1   \n",
       "2        Jun-14          649.91             May-16           1   \n",
       "3        Jan-15          357.48             Apr-16           1   \n",
       "4        May-16           67.79             May-16           1   \n",
       "\n",
       "  application_type pub_rec_bankruptcies  year month  loan_amnt_cats  \n",
       "0       INDIVIDUAL                  0.0  2011    12          0-7000  \n",
       "1       INDIVIDUAL                  0.0  2011    12          0-7000  \n",
       "2       INDIVIDUAL                  0.0  2011    12          0-7000  \n",
       "3       INDIVIDUAL                  0.0  2011    12      7000-14000  \n",
       "4       INDIVIDUAL                  0.0  2011    12          0-7000  \n",
       "\n",
       "[5 rows x 47 columns]"
      ]
     },
     "execution_count": 201,
     "metadata": {},
     "output_type": "execute_result"
    }
   ],
   "source": [
    "loan_cust.head(5)"
   ]
  },
  {
   "cell_type": "markdown",
   "id": "8254412d",
   "metadata": {},
   "source": [
    "## Important column analysis\n",
    "\n",
    "### loan_amnt - Univariate Analysis\n"
   ]
  },
  {
   "cell_type": "code",
   "execution_count": 194,
   "id": "5b90d893",
   "metadata": {},
   "outputs": [
    {
     "data": {
      "text/plain": [
       "count    39717.000000\n",
       "mean     11219.443815\n",
       "std       7456.670694\n",
       "min        500.000000\n",
       "25%       5500.000000\n",
       "50%      10000.000000\n",
       "75%      15000.000000\n",
       "max      35000.000000\n",
       "Name: loan_amnt, dtype: float64"
      ]
     },
     "execution_count": 194,
     "metadata": {},
     "output_type": "execute_result"
    }
   ],
   "source": [
    " loan_cust.loan_amnt.describe()\n"
   ]
  },
  {
   "cell_type": "code",
   "execution_count": 195,
   "id": "83b5954c",
   "metadata": {},
   "outputs": [
    {
     "name": "stderr",
     "output_type": "stream",
     "text": [
      "C:\\anaconda\\lib\\site-packages\\seaborn\\_decorators.py:36: FutureWarning: Pass the following variable as a keyword arg: x. From version 0.12, the only valid positional argument will be `data`, and passing other arguments without an explicit keyword will result in an error or misinterpretation.\n",
      "  warnings.warn(\n"
     ]
    },
    {
     "data": {
      "text/plain": [
       "<AxesSubplot:xlabel='loan_amnt'>"
      ]
     },
     "execution_count": 195,
     "metadata": {},
     "output_type": "execute_result"
    },
    {
     "data": {
      "image/png": "[encoded data removed]",
      "text/plain": [
       "<Figure size 432x288 with 1 Axes>"
      ]
     },
     "metadata": {
      "needs_background": "light"
     },
     "output_type": "display_data"
    }
   ],
   "source": [
    "#check outliers\n",
    "sns.boxplot(loan_cust.loan_amnt)"
   ]
  },
  {
   "cell_type": "code",
   "execution_count": 221,
   "id": "106a96d9",
   "metadata": {},
   "outputs": [
    {
     "data": {
      "text/plain": [
       "array([10.65, 15.27, 15.96, 13.49, 12.69,  7.9 , 18.64, 21.28, 14.65,\n",
       "        9.91, 16.29,  6.03, 11.71, 12.42, 14.27, 16.77,  7.51,  8.9 ,\n",
       "       18.25,  6.62, 19.91, 17.27, 17.58, 21.67, 22.06, 20.3 , 19.42,\n",
       "       20.89, 19.03, 23.52, 23.13, 22.74, 23.91, 22.35, 24.11,  6.  ,\n",
       "       11.99,  5.99, 10.99, 18.79, 11.49,  8.49, 15.99, 16.49,  6.99,\n",
       "       12.99, 15.23, 14.79,  5.42, 17.49, 10.59, 15.62, 21.36,  7.49,\n",
       "        9.99, 19.29, 13.99, 18.39, 20.62, 16.89, 17.99, 20.25, 20.99,\n",
       "       22.85, 21.74, 23.22, 22.48, 19.69, 22.11, 23.59, 18.07, 11.63,\n",
       "        7.91,  7.42, 11.14, 20.2 , 12.12, 16.11, 17.54, 22.64, 13.84,\n",
       "       19.39, 12.62, 16.59, 17.19, 12.87, 20.69,  9.67, 21.82, 18.49,\n",
       "       22.94, 19.79, 24.4 , 21.48, 14.82, 14.17,  7.29, 17.51, 16.02,\n",
       "       13.43, 14.91, 13.06, 15.28, 17.14, 11.11, 10.37, 16.4 , 15.65,\n",
       "        7.66, 10.  , 18.62, 10.74, 17.88,  5.79,  6.92,  9.63, 14.54,\n",
       "       12.68, 19.36, 13.8 , 18.99, 20.11, 21.59, 20.85, 19.74, 20.48,\n",
       "       21.22,  6.91, 12.23, 12.61, 10.36,  6.17,  6.54,  9.25, 16.69,\n",
       "       15.95,  8.88, 13.35,  9.62, 16.32, 12.98, 14.83, 13.72, 14.09,\n",
       "       14.46, 20.03, 17.8 , 15.2 , 15.57, 18.54, 19.66, 17.06, 17.43,\n",
       "       18.17, 20.4 , 20.77, 18.91, 21.14, 17.44, 13.23,  7.88, 11.12,\n",
       "       13.61, 10.38, 17.56, 17.93, 15.58, 13.98, 14.84, 15.21,  6.76,\n",
       "       11.86,  7.14, 14.35, 10.75, 16.45, 14.72, 16.82, 20.53, 19.41,\n",
       "       20.16,  6.39, 18.3 , 18.67, 19.04, 21.27, 20.9 , 21.64, 12.73,\n",
       "       10.25, 13.11, 10.62, 13.48, 14.59, 16.07, 15.7 ,  9.88, 11.36,\n",
       "       15.33, 13.85, 14.96, 14.22,  7.74, 13.22, 13.57,  8.59, 17.04,\n",
       "       14.61,  8.94, 12.18, 11.83, 11.48, 16.35, 13.92, 14.26, 19.13,\n",
       "       12.53, 16.7 , 15.31, 16.  , 18.09, 17.39,  7.4 , 18.43, 17.74,\n",
       "        7.05, 20.52, 19.47, 20.86, 18.78, 21.21, 19.82, 20.17, 13.16,\n",
       "        8.  , 13.47, 12.21, 16.63,  9.32, 12.84, 11.26, 15.68, 15.37,\n",
       "       10.95, 11.89, 13.79,  7.68, 11.58,  7.37, 14.11, 16.95, 15.05,\n",
       "       18.53, 14.74, 14.42, 18.21, 17.26, 17.9 , 18.84, 19.16, 13.67,\n",
       "        9.38, 12.72, 13.36, 11.46,  9.07, 13.04, 11.78, 12.41, 12.09,\n",
       "       17.46, 14.3 , 17.15, 10.2 , 10.83, 10.51, 15.88, 15.25, 14.93,\n",
       "       16.2 , 18.72, 14.62,  8.32, 14.12, 10.96, 10.33, 10.01, 12.86,\n",
       "       11.28, 11.59,  8.63, 12.54, 12.22, 15.38, 16.96, 11.91, 13.17,\n",
       "        9.7 , 16.33, 14.75, 15.07, 16.01, 10.71, 10.64,  9.76, 11.34,\n",
       "       10.39, 13.87, 11.03, 11.66, 13.24, 10.08,  9.45, 13.55, 12.29,\n",
       "       11.97, 12.92, 15.45, 14.5 , 14.18, 15.13, 16.08, 15.76, 17.03,\n",
       "       17.34, 16.71,  9.83, 13.62, 10.46,  9.51,  9.2 , 13.3 , 10.78,\n",
       "        7.75,  8.38, 12.36, 12.67, 11.72, 13.93,  8.07,  7.43, 14.25,\n",
       "       14.88, 11.41, 11.09, 10.14, 16.15, 12.04, 15.83,  7.12, 18.36,\n",
       "        9.64,  9.96, 11.22,  9.33, 11.54,  9.01, 12.8 , 14.38, 13.75,\n",
       "       14.7 , 12.49, 10.91, 13.12, 10.28, 12.17,  8.7 , 14.67, 15.01])"
      ]
     },
     "execution_count": 221,
     "metadata": {},
     "output_type": "execute_result"
    }
   ],
   "source": [
    "## Int_rate - Univariate Analysis\n",
    "loan_cust.int_rate.unique()\n",
    "## COnvert the object type to float for int_rate\n",
    "loan_cust['int_rate']=loan_cust['int_rate'].astype(float)\n",
    "loan_cust.int_rate.unique()\n"
   ]
  },
  {
   "cell_type": "code",
   "execution_count": 225,
   "id": "9cca1c40",
   "metadata": {},
   "outputs": [
    {
     "name": "stderr",
     "output_type": "stream",
     "text": [
      "C:\\anaconda\\lib\\site-packages\\seaborn\\_decorators.py:36: FutureWarning: Pass the following variable as a keyword arg: x. From version 0.12, the only valid positional argument will be `data`, and passing other arguments without an explicit keyword will result in an error or misinterpretation.\n",
      "  warnings.warn(\n"
     ]
    },
    {
     "data": {
      "text/plain": [
       "<AxesSubplot:xlabel='int_rate'>"
      ]
     },
     "execution_count": 225,
     "metadata": {},
     "output_type": "execute_result"
    },
    {
     "data": {
      "image/png": "[encoded data removed]",
      "text/plain": [
       "<Figure size 432x288 with 1 Axes>"
      ]
     },
     "metadata": {
      "needs_background": "light"
     },
     "output_type": "display_data"
    }
   ],
   "source": [
    "## boxplot for outlier\n",
    "loan_cust.int_rate.describe()\n",
    "#check outliers\n",
    "sns.boxplot(loan_cust.int_rate)\n"
   ]
  },
  {
   "cell_type": "code",
   "execution_count": null,
   "id": "312593ad",
   "metadata": {},
   "outputs": [],
   "source": []
  },
  {
   "cell_type": "code",
   "execution_count": null,
   "id": "a6184931",
   "metadata": {},
   "outputs": [],
   "source": [
    "### annual_inc - Univariate Analysis"
   ]
  },
  {
   "cell_type": "code",
   "execution_count": 206,
   "id": "f044798a",
   "metadata": {},
   "outputs": [
    {
     "name": "stderr",
     "output_type": "stream",
     "text": [
      "C:\\anaconda\\lib\\site-packages\\seaborn\\_decorators.py:36: FutureWarning: Pass the following variable as a keyword arg: x. From version 0.12, the only valid positional argument will be `data`, and passing other arguments without an explicit keyword will result in an error or misinterpretation.\n",
      "  warnings.warn(\n"
     ]
    },
    {
     "data": {
      "text/plain": [
       "<AxesSubplot:xlabel='annual_inc'>"
      ]
     },
     "execution_count": 206,
     "metadata": {},
     "output_type": "execute_result"
    },
    {
     "data": {
      "image/png": "[encoded data removed]",
      "text/plain": [
       "<Figure size 432x288 with 1 Axes>"
      ]
     },
     "metadata": {
      "needs_background": "light"
     },
     "output_type": "display_data"
    }
   ],
   "source": [
    "loan_cust.annual_inc.describe()\n",
    "\n",
    "#convert to integer\n",
    "loan_cust['annual_inc'] = loan_cust['annual_inc'].astype('int64')\n",
    "loan_cust['annual_inc'].head(50)\n",
    "#check outliers\n",
    "sns.boxplot(loan_cust.annual_inc)\n"
   ]
  },
  {
   "cell_type": "code",
   "execution_count": 207,
   "id": "602ad0c7",
   "metadata": {},
   "outputs": [
    {
     "name": "stderr",
     "output_type": "stream",
     "text": [
      "C:\\anaconda\\lib\\site-packages\\seaborn\\_decorators.py:36: FutureWarning: Pass the following variable as a keyword arg: x. From version 0.12, the only valid positional argument will be `data`, and passing other arguments without an explicit keyword will result in an error or misinterpretation.\n",
      "  warnings.warn(\n"
     ]
    },
    {
     "data": {
      "image/png": "[encoded data removed]",
      "text/plain": [
       "<Figure size 432x288 with 1 Axes>"
      ]
     },
     "metadata": {
      "needs_background": "light"
     },
     "output_type": "display_data"
    }
   ],
   "source": [
    "#remove outliers, more than 90% \n",
    "loan_cust = loan_cust[loan_cust[\"annual_inc\"] < loan_cust[\"annual_inc\"].quantile(0.90)]\n",
    "sns.boxplot(loan_cust.annual_inc)\n",
    "plt.show()"
   ]
  },
  {
   "cell_type": "code",
   "execution_count": null,
   "id": "067f0693",
   "metadata": {},
   "outputs": [],
   "source": [
    "## total_pymnt"
   ]
  },
  {
   "cell_type": "code",
   "execution_count": 226,
   "id": "b311c50d",
   "metadata": {},
   "outputs": [
    {
     "name": "stderr",
     "output_type": "stream",
     "text": [
      "C:\\anaconda\\lib\\site-packages\\seaborn\\_decorators.py:36: FutureWarning: Pass the following variable as a keyword arg: x. From version 0.12, the only valid positional argument will be `data`, and passing other arguments without an explicit keyword will result in an error or misinterpretation.\n",
      "  warnings.warn(\n"
     ]
    },
    {
     "data": {
      "image/png": "[encoded data removed]",
      "text/plain": [
       "<Figure size 432x288 with 1 Axes>"
      ]
     },
     "metadata": {
      "needs_background": "light"
     },
     "output_type": "display_data"
    }
   ],
   "source": [
    "sns.boxplot(loan_cust.total_pymnt)\n",
    "plt.show()"
   ]
  },
  {
   "cell_type": "code",
   "execution_count": null,
   "id": "2d393916",
   "metadata": {},
   "outputs": [],
   "source": [
    "## Loan Status"
   ]
  },
  {
   "cell_type": "code",
   "execution_count": 227,
   "id": "ee2498f8",
   "metadata": {},
   "outputs": [
    {
     "data": {
      "image/png": "[encoded data removed]",
      "text/plain": [
       "<Figure size 432x288 with 1 Axes>"
      ]
     },
     "metadata": {
      "needs_background": "light"
     },
     "output_type": "display_data"
    }
   ],
   "source": [
    "sns.countplot(x=\"loan_status\",data = loan_cust)\n",
    "plt.show()"
   ]
  },
  {
   "cell_type": "code",
   "execution_count": 255,
   "id": "6e06607d",
   "metadata": {},
   "outputs": [
    {
     "data": {
      "text/plain": [
       "Fully Paid     82.669278\n",
       "Charged Off    14.549524\n",
       "Current         2.781198\n",
       "Name: loan_status, dtype: float64"
      ]
     },
     "execution_count": 255,
     "metadata": {},
     "output_type": "execute_result"
    }
   ],
   "source": [
    "##print(\"%.2f\" % (loan_cust.loc[loan_cust['loan_status'] == 'Charged Off'].loan_status.count() * 100/len(loan_cust)))\n",
    "(loan_cust.loan_status.value_counts()*100)/len(loan_cust)"
   ]
  },
  {
   "cell_type": "code",
   "execution_count": 230,
   "id": "65c2b11d",
   "metadata": {},
   "outputs": [
    {
     "data": {
      "image/png": "[encoded data removed]",
      "text/plain": [
       "<Figure size 720x360 with 1 Axes>"
      ]
     },
     "metadata": {
      "needs_background": "light"
     },
     "output_type": "display_data"
    }
   ],
   "source": [
    "## Bivariate Analysis , Loan_status and purpose\n",
    "\n",
    "plt.figure(figsize=(10,5))\n",
    "sns.countplot(y=\"purpose\",data=loan_cust,hue='loan_status')\n",
    "plt.show()"
   ]
  },
  {
   "cell_type": "code",
   "execution_count": 231,
   "id": "b63aaf2c",
   "metadata": {},
   "outputs": [
    {
     "data": {
      "image/png": "[encoded data removed]",
      "text/plain": [
       "<Figure size 720x360 with 1 Axes>"
      ]
     },
     "metadata": {
      "needs_background": "light"
     },
     "output_type": "display_data"
    }
   ],
   "source": [
    "#Home ownership and loan status\n",
    "\n",
    "plt.figure(figsize=(10,5))\n",
    "sns.countplot(y=\"home_ownership\",data=loan_cust,hue='loan_status')\n",
    "plt.show()\n",
    "\n"
   ]
  },
  {
   "cell_type": "code",
   "execution_count": 251,
   "id": "fa8d0d65",
   "metadata": {},
   "outputs": [
    {
     "data": {
      "image/png": "[encoded data removed]",
      "text/plain": [
       "<Figure size 1008x576 with 1 Axes>"
      ]
     },
     "metadata": {},
     "output_type": "display_data"
    }
   ],
   "source": [
    "# Year and int_rate\n",
    "\n",
    "plt.figure(figsize=(14,8))\n",
    "axis = sns.lineplot(y='int_rate', x='year', data = loan_cust)\n",
    "plt.show()"
   ]
  },
  {
   "cell_type": "code",
   "execution_count": null,
   "id": "7f4c39d1",
   "metadata": {},
   "outputs": [],
   "source": [
    "#Correlation matrix"
   ]
  },
  {
   "cell_type": "code",
   "execution_count": null,
   "id": "79c81c46",
   "metadata": {},
   "outputs": [],
   "source": []
  },
  {
   "cell_type": "code",
   "execution_count": 247,
   "id": "38359bc3",
   "metadata": {},
   "outputs": [
    {
     "data": {
      "image/png": "[encoded data removed]",
      "text/plain": [
       "<Figure size 720x720 with 2 Axes>"
      ]
     },
     "metadata": {},
     "output_type": "display_data"
    }
   ],
   "source": [
    "#correlation matrix for \n",
    "plt.figure(figsize=(10,10))\n",
    "corr_var= ['loan_amnt', 'int_rate','emp_length', 'annual_inc','dti','inq_last_6mths', 'open_acc', 'total_acc', 'last_pymnt_d', 'last_pymnt_amnt', 'last_credit_pull_d']\n",
    "corr = loan_cust[corr_var].corr()\n",
    "sns.heatmap(corr, annot=True, center=0.5 ,cmap=\"BuPu\")\n",
    "plt.show()\n"
   ]
  },
  {
   "cell_type": "code",
   "execution_count": null,
   "id": "b41a4952",
   "metadata": {},
   "outputs": [],
   "source": []
  },
  {
   "cell_type": "code",
   "execution_count": null,
   "id": "f885b67a",
   "metadata": {},
   "outputs": [],
   "source": []
  },
  {
   "cell_type": "code",
   "execution_count": null,
   "id": "e34d937a",
   "metadata": {},
   "outputs": [],
   "source": []
  },
  {
   "cell_type": "code",
   "execution_count": null,
   "id": "de2c6044",
   "metadata": {},
   "outputs": [],
   "source": []
  },
  {
   "cell_type": "code",
   "execution_count": null,
   "id": "3205efbf",
   "metadata": {},
   "outputs": [],
   "source": []
  }
 ],
 "metadata": {
  "kernelspec": {
   "display_name": "Python 3 (ipykernel)",
   "language": "python",
   "name": "python3"
  },
  "language_info": {
   "codemirror_mode": {
    "name": "ipython",
    "version": 3
   },
   "file_extension": ".py",
   "mimetype": "text/x-python",
   "name": "python",
   "nbconvert_exporter": "python",
   "pygments_lexer": "ipython3",
   "version": "3.9.12"
  }
 },
 "nbformat": 4,
 "nbformat_minor": 5
}
